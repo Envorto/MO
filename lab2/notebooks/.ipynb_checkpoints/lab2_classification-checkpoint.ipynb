{
 "cells": [
  {
   "cell_type": "code",
   "execution_count": 1,
   "id": "f5062d96-6e3f-4f31-9357-02e0fc7c94de",
   "metadata": {
    "tags": []
   },
   "outputs": [
    {
     "name": "stdout",
     "output_type": "stream",
     "text": [
      "Библиотеки загружены\n"
     ]
    }
   ],
   "source": [
    "import pandas as pd\n",
    "import numpy as np\n",
    "import matplotlib.pyplot as plt\n",
    "import seaborn as sns\n",
    "from sklearn.model_selection import train_test_split\n",
    "from sklearn.preprocessing import StandardScaler\n",
    "from sklearn.linear_model import LogisticRegression, LinearRegression\n",
    "from sklearn.metrics import (accuracy_score, precision_score, recall_score, \n",
    "                             f1_score, confusion_matrix, classification_report,\n",
    "                             mean_squared_error, r2_score)\n",
    "from sklearn.preprocessing import LabelEncoder\n",
    "\n",
    "print(\"Библиотеки загружены\")"
   ]
  },
  {
   "cell_type": "code",
   "execution_count": 3,
   "id": "07a0595b-1c03-4343-a957-dbe7ba62dca8",
   "metadata": {
    "tags": []
   },
   "outputs": [
    {
     "name": "stdout",
     "output_type": "stream",
     "text": [
      "Данные загружены\n",
      "Train: (8693, 14), Test: (4277, 13)\n",
      "Колонки: ['PassengerId', 'HomePlanet', 'CryoSleep', 'Cabin', 'Destination', 'Age', 'VIP', 'RoomService', 'FoodCourt', 'ShoppingMall', 'Spa', 'VRDeck', 'Name', 'Transported']\n"
     ]
    }
   ],
   "source": [
    "# Загрузка датасета Титаник\n",
    "train_df = pd.read_csv('../data/train.csv')\n",
    "test_df = pd.read_csv('../data/test.csv')\n",
    "\n",
    "print(\"Данные загружены\")\n",
    "print(f\"Train: {train_df.shape}, Test: {test_df.shape}\")\n",
    "print(f\"Колонки: {list(train_df.columns)}\")"
   ]
  },
  {
   "cell_type": "code",
   "execution_count": 5,
   "id": "7f6298ed-3792-4555-812a-c01935d0d368",
   "metadata": {
    "tags": []
   },
   "outputs": [
    {
     "name": "stdout",
     "output_type": "stream",
     "text": [
      "Данные предобработаны\n",
      "Новый размер: (8693, 14)\n"
     ]
    }
   ],
   "source": [
    "# Предобработка данных\n",
    "def preprocess_data(df):\n",
    "    \"\"\"Предобработка данных для классификации\"\"\"\n",
    "    df_processed = df.copy()\n",
    "    \n",
    "    # Заполнение пропусков\n",
    "    for col in df_processed.columns:\n",
    "        if df_processed[col].isnull().sum() > 0:\n",
    "            if df_processed[col].dtype == 'object':\n",
    "                mode_val = df_processed[col].mode()[0]\n",
    "                df_processed[col].fillna(mode_val, inplace=True)\n",
    "            else:\n",
    "                median_val = df_processed[col].median()\n",
    "                df_processed[col].fillna(median_val, inplace=True)\n",
    "    \n",
    "    # One-Hot Encoding для категориальных признаков\n",
    "    categorical_cols = ['Sex', 'Embarked', 'Pclass']\n",
    "    categorical_cols = [col for col in categorical_cols if col in df_processed.columns]\n",
    "    \n",
    "    if categorical_cols:\n",
    "        df_processed = pd.get_dummies(df_processed, columns=categorical_cols, drop_first=True)\n",
    "    \n",
    "    return df_processed\n",
    "\n",
    "# Применяем предобработку\n",
    "train_processed = preprocess_data(train_df)\n",
    "print(\"Данные предобработаны\")\n",
    "print(f\"Новый размер: {train_processed.shape}\")"
   ]
  },
  {
   "cell_type": "code",
   "execution_count": 6,
   "id": "897e70f5-ce88-4466-af8f-523211acdaa9",
   "metadata": {
    "tags": []
   },
   "outputs": [
    {
     "name": "stdout",
     "output_type": "stream",
     "text": [
      "Создана целевая переменная: Age > 30\n",
      "Features: (8693, 6), Target: (8693,)\n",
      "Распределение классов: 0    5282\n",
      "1    3411\n",
      "Name: Survived, dtype: int64\n",
      "Данные подготовлены для обучения\n"
     ]
    }
   ],
   "source": [
    "# Выбираем целевой признак - Survived\n",
    "if 'Survived' in train_processed.columns:\n",
    "    X = train_processed.drop('Survived', axis=1)\n",
    "    y = train_processed['Survived']\n",
    "    print(\"Используем Survived как целевую переменную\")\n",
    "else:\n",
    "    # Создаем искусственную целевую переменную\n",
    "    train_processed['Survived'] = (train_processed['Age'] > 30).astype(int)\n",
    "    X = train_processed.drop('Survived', axis=1)\n",
    "    y = train_processed['Survived']\n",
    "    print(\"Создана целевая переменная: Age > 30\")\n",
    "\n",
    "# Убираем нечисловые колонки\n",
    "X = X.select_dtypes(include=[np.number])\n",
    "\n",
    "print(f\"Features: {X.shape}, Target: {y.shape}\")\n",
    "print(f\"Распределение классов: {y.value_counts()}\")\n",
    "\n",
    "# Разделение на train/test\n",
    "X_train, X_test, y_train, y_test = train_test_split(\n",
    "    X, y, test_size=0.2, random_state=42, stratify=y\n",
    ")\n",
    "\n",
    "# Масштабирование\n",
    "scaler = StandardScaler()\n",
    "X_train_scaled = scaler.fit_transform(X_train)\n",
    "X_test_scaled = scaler.transform(X_test)\n",
    "\n",
    "print(\"Данные подготовлены для обучения\")\n"
   ]
  },
  {
   "cell_type": "code",
   "execution_count": 7,
   "id": "ea553be9-2c05-47ae-9850-66fc8d9d6df1",
   "metadata": {
    "tags": []
   },
   "outputs": [
    {
     "name": "stdout",
     "output_type": "stream",
     "text": [
      "Логистическая регрессия обучена\n"
     ]
    }
   ],
   "source": [
    "# Логистическая регрессия\n",
    "\n",
    "# Создаем и обучаем модель логистической регрессии\n",
    "logistic_model = LogisticRegression(random_state=42, max_iter=1000)\n",
    "logistic_model.fit(X_train_scaled, y_train)\n",
    "\n",
    "# Предсказания\n",
    "y_pred_logistic = logistic_model.predict(X_test_scaled)\n",
    "y_pred_proba_logistic = logistic_model.predict_proba(X_test_scaled)[:, 1]\n",
    "\n",
    "print(\"Логистическая регрессия обучена\")\n"
   ]
  },
  {
   "cell_type": "code",
   "execution_count": 8,
   "id": "3c3fd0c0-7acd-446d-9336-3f858e76b8c6",
   "metadata": {
    "tags": []
   },
   "outputs": [
    {
     "name": "stdout",
     "output_type": "stream",
     "text": [
      "Линейная регрессия обучена и преобразована для классификации\n"
     ]
    }
   ],
   "source": [
    "# Линейная регрессия (для классификации)\n",
    "\n",
    "# Для линейной регрессии нужно преобразовать выход в бинарный\n",
    "linear_model = LinearRegression()\n",
    "linear_model.fit(X_train_scaled, y_train)\n",
    "\n",
    "# Предсказания (вероятности)\n",
    "y_pred_linear_raw = linear_model.predict(X_test_scaled)\n",
    "\n",
    "# Преобразуем в бинарные предсказания (0 или 1)\n",
    "# Порог 0.5 для классификации\n",
    "y_pred_linear = (y_pred_linear_raw > 0.5).astype(int)\n",
    "\n",
    "print(\"Линейная регрессия обучена и преобразована для классификации\")"
   ]
  },
  {
   "cell_type": "code",
   "execution_count": 10,
   "id": "11bb6885-cbec-449a-9dfb-a1fc7c273708",
   "metadata": {
    "tags": []
   },
   "outputs": [
    {
     "name": "stdout",
     "output_type": "stream",
     "text": [
      "\n",
      "Логистическая регрессия:\n",
      "Accuracy: 1.0000\n",
      "Precision: 1.0000\n",
      "Recall: 1.0000\n",
      "F1-Score: 1.0000\n",
      "\n",
      "Линейная регрессия:\n",
      "Accuracy: 0.9471\n",
      "Precision: 1.0000\n",
      "Recall: 0.8651\n",
      "F1-Score: 0.9277\n"
     ]
    },
    {
     "data": {
      "image/png": "[encoded data removed]",
      "text/plain": [
       "<Figure size 1200x500 with 4 Axes>"
      ]
     },
     "metadata": {},
     "output_type": "display_data"
    },
    {
     "name": "stdout",
     "output_type": "stream",
     "text": [
      "ОТЧЕТ КЛАССИФИКАЦИИ - Логистическая регрессия:\n",
      "              precision    recall  f1-score   support\n",
      "\n",
      "           0       1.00      1.00      1.00      1057\n",
      "           1       1.00      1.00      1.00       682\n",
      "\n",
      "    accuracy                           1.00      1739\n",
      "   macro avg       1.00      1.00      1.00      1739\n",
      "weighted avg       1.00      1.00      1.00      1739\n",
      "\n",
      "\n",
      "ОТЧЕТ КЛАССИФИКАЦИИ - Линейная регрессия:\n",
      "              precision    recall  f1-score   support\n",
      "\n",
      "           0       0.92      1.00      0.96      1057\n",
      "           1       1.00      0.87      0.93       682\n",
      "\n",
      "    accuracy                           0.95      1739\n",
      "   macro avg       0.96      0.93      0.94      1739\n",
      "weighted avg       0.95      0.95      0.95      1739\n",
      "\n",
      "СРАВНЕНИЕ МЕТРИК:\n",
      "      Metric  Logistic Regression  Linear Regression\n",
      "0   Accuracy                  1.0             0.9471\n",
      "1  Precision                  1.0             1.0000\n",
      "2     Recall                  1.0             0.8651\n",
      "3   F1-Score                  1.0             0.9277\n"
     ]
    },
    {
     "data": {
      "image/png": "[encoded data removed]",
      "text/plain": [
       "<Figure size 1000x600 with 1 Axes>"
      ]
     },
     "metadata": {},
     "output_type": "display_data"
    },
    {
     "name": "stdout",
     "output_type": "stream",
     "text": [
      "ВАЖНОСТЬ ПРИЗНАКОВ (Логистическая регрессия):\n",
      "        feature  coefficient\n",
      "0           Age    16.067511\n",
      "1   RoomService     0.071011\n",
      "2     FoodCourt     0.046281\n",
      "4           Spa     0.034430\n",
      "5        VRDeck    -0.017236\n",
      "3  ShoppingMall    -0.011356\n",
      "ПРОГНОЗЫ ДЛЯ ПЕРВЫХ 10 ТЕСТОВЫХ СЛУЧАЕВ:\n",
      "   Actual  Logistic_Pred  Linear_Pred  Logistic_Prob  Linear_Score\n",
      "0       1              1            1          1.000         1.277\n",
      "1       1              1            0          0.843         0.480\n",
      "2       0              0            0          0.000         0.017\n",
      "3       0              0            0          0.000         0.172\n",
      "4       1              1            1          1.000         0.698\n",
      "5       0              0            0          0.000         0.208\n",
      "6       1              1            0          0.617         0.453\n",
      "7       1              1            0          0.616         0.441\n",
      "8       0              0            0          0.001         0.262\n",
      "9       0              0            0          0.000        -0.255\n",
      "\n",
      "==================================================\n",
      "ВЫВОДЫ И СРАВНЕНИЕ МОДЕЛЕЙ\n",
      "==================================================\n",
      "Логистическая регрессия лучше подходит для:\n",
      "- Бинарной классификации\n",
      "- Output интерпретируется как вероятность\n",
      "- Стабильные результаты\n",
      "\n",
      "Линейная регрессия для классификации:\n",
      "- Требует преобразования выхода в бинарный\n",
      "- Может давать значения вне [0,1] диапазона\n",
      "- Менее интерпретируемые результаты\n",
      "\n",
      "Лучшая модель: Логистическая регрессия\n"
     ]
    }
   ],
   "source": [
    "# Оценка результатов работы модели\n",
    "\n",
    "# Функция для оценки метрик\n",
    "def evaluate_model(y_true, y_pred, model_name):\n",
    "    \"\"\"Оценка метрик классификации\"\"\"\n",
    "    accuracy = accuracy_score(y_true, y_pred)\n",
    "    precision = precision_score(y_true, y_pred)\n",
    "    recall = recall_score(y_true, y_pred)\n",
    "    f1 = f1_score(y_true, y_pred)\n",
    "    \n",
    "    print(f\"\\n{model_name}:\")\n",
    "    print(f\"Accuracy: {accuracy:.4f}\")\n",
    "    print(f\"Precision: {precision:.4f}\")\n",
    "    print(f\"Recall: {recall:.4f}\")\n",
    "    print(f\"F1-Score: {f1:.4f}\")\n",
    "    \n",
    "    return accuracy, precision, recall, f1\n",
    "\n",
    "# Оценка логистической регрессии\n",
    "acc_log, prec_log, rec_log, f1_log = evaluate_model(y_test, y_pred_logistic, \"Логистическая регрессия\")\n",
    "\n",
    "# Оценка линейной регрессии\n",
    "acc_lin, prec_lin, rec_lin, f1_lin = evaluate_model(y_test, y_pred_linear, \"Линейная регрессия\")\n",
    "\n",
    "# Матрицы ошибок\n",
    "fig, axes = plt.subplots(1, 2, figsize=(12, 5))\n",
    "\n",
    "# Логистическая регрессия\n",
    "cm_logistic = confusion_matrix(y_test, y_pred_logistic)\n",
    "sns.heatmap(cm_logistic, annot=True, fmt='d', cmap='Blues', ax=axes[0])\n",
    "axes[0].set_title('Матрица ошибок - Логистическая регрессия')\n",
    "axes[0].set_xlabel('Predicted')\n",
    "axes[0].set_ylabel('Actual')\n",
    "\n",
    "# Линейная регрессия\n",
    "cm_linear = confusion_matrix(y_test, y_pred_linear)\n",
    "sns.heatmap(cm_linear, annot=True, fmt='d', cmap='Reds', ax=axes[1])\n",
    "axes[1].set_title('Матрица ошибок - Линейная регрессия')\n",
    "axes[1].set_xlabel('Predicted')\n",
    "axes[1].set_ylabel('Actual')\n",
    "\n",
    "plt.tight_layout()\n",
    "plt.show()\n",
    "\n",
    "# Детальные отчеты\n",
    "print(\"ОТЧЕТ КЛАССИФИКАЦИИ - Логистическая регрессия:\")\n",
    "print(classification_report(y_test, y_pred_logistic))\n",
    "\n",
    "print(\"\\nОТЧЕТ КЛАССИФИКАЦИИ - Линейная регрессия:\")\n",
    "print(classification_report(y_test, y_pred_linear))\n",
    "\n",
    "# Сравнение метрик\n",
    "results = pd.DataFrame({\n",
    "    'Metric': ['Accuracy', 'Precision', 'Recall', 'F1-Score'],\n",
    "    'Logistic Regression': [acc_log, prec_log, rec_log, f1_log],\n",
    "    'Linear Regression': [acc_lin, prec_lin, rec_lin, f1_lin]\n",
    "})\n",
    "\n",
    "print(\"СРАВНЕНИЕ МЕТРИК:\")\n",
    "print(results.round(4))\n",
    "\n",
    "# Визуализация сравнения\n",
    "metrics = ['Accuracy', 'Precision', 'Recall', 'F1-Score']\n",
    "log_values = [acc_log, prec_log, rec_log, f1_log]\n",
    "lin_values = [acc_lin, prec_lin, rec_lin, f1_lin]\n",
    "\n",
    "x = np.arange(len(metrics))\n",
    "width = 0.35\n",
    "\n",
    "plt.figure(figsize=(10, 6))\n",
    "plt.bar(x - width/2, log_values, width, label='Логистическая регрессия', alpha=0.8)\n",
    "plt.bar(x + width/2, lin_values, width, label='Линейная регрессия', alpha=0.8)\n",
    "\n",
    "plt.xlabel('Метрики')\n",
    "plt.ylabel('Значение')\n",
    "plt.title('Сравнение метрик классификации')\n",
    "plt.xticks(x, metrics)\n",
    "plt.legend()\n",
    "plt.ylim(0, 1)\n",
    "plt.grid(axis='y', alpha=0.3)\n",
    "plt.show()\n",
    "\n",
    "# Анализ коэффициентов (только для логистической регрессии)\n",
    "if hasattr(logistic_model, 'coef_'):\n",
    "    feature_importance = pd.DataFrame({\n",
    "        'feature': X.columns,\n",
    "        'coefficient': logistic_model.coef_[0]\n",
    "    }).sort_values('coefficient', key=abs, ascending=False)\n",
    "    \n",
    "    print(\"ВАЖНОСТЬ ПРИЗНАКОВ (Логистическая регрессия):\")\n",
    "    print(feature_importance.head(10))\n",
    "\n",
    "# Прогнозы на нескольких примерах\n",
    "sample_results = pd.DataFrame({\n",
    "    'Actual': y_test.values[:10],\n",
    "    'Logistic_Pred': y_pred_logistic[:10],\n",
    "    'Linear_Pred': y_pred_linear[:10],\n",
    "    'Logistic_Prob': y_pred_proba_logistic[:10].round(3),\n",
    "    'Linear_Score': y_pred_linear_raw[:10].round(3)\n",
    "})\n",
    "\n",
    "print(\"ПРОГНОЗЫ ДЛЯ ПЕРВЫХ 10 ТЕСТОВЫХ СЛУЧАЕВ:\")\n",
    "print(sample_results)\n",
    "\n",
    "# Выводы\n",
    "print(\"\\n\" + \"=\"*50)\n",
    "print(\"ВЫВОДЫ И СРАВНЕНИЕ МОДЕЛЕЙ\")\n",
    "print(\"=\"*50)\n",
    "print(\"Логистическая регрессия лучше подходит для:\")\n",
    "print(\"- Бинарной классификации\")\n",
    "print(\"- Output интерпретируется как вероятность\")\n",
    "print(\"- Стабильные результаты\")\n",
    "\n",
    "print(\"\\nЛинейная регрессия для классификации:\")\n",
    "print(\"- Требует преобразования выхода в бинарный\")\n",
    "print(\"- Может давать значения вне [0,1] диапазона\")\n",
    "print(\"- Менее интерпретируемые результаты\")\n",
    "\n",
    "print(f\"\\nЛучшая модель: {'Логистическая регрессия' if f1_log > f1_lin else 'Линейная регрессия'}\")"
   ]
  },
  {
   "cell_type": "code",
   "execution_count": null,
   "id": "e718e893-33ad-4240-bf32-8cd5158f17cb",
   "metadata": {},
   "outputs": [],
   "source": []
  }
 ],
 "metadata": {
  "kernelspec": {
   "display_name": "Python 3 (ipykernel)",
   "language": "python",
   "name": "python3"
  },
  "language_info": {
   "codemirror_mode": {
    "name": "ipython",
    "version": 3
   },
   "file_extension": ".py",
   "mimetype": "text/x-python",
   "name": "python",
   "nbconvert_exporter": "python",
   "pygments_lexer": "ipython3",
   "version": "3.7.8"
  }
 },
 "nbformat": 4,
 "nbformat_minor": 5
}
