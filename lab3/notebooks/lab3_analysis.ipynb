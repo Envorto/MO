{
 "cells": [
  {
   "cell_type": "code",
   "execution_count": 1,
   "id": "3f4f13f1-a22a-44b2-92ad-8b0d969802d0",
   "metadata": {
    "tags": []
   },
   "outputs": [
    {
     "name": "stdout",
     "output_type": "stream",
     "text": [
      "Библиотеки загружены\n"
     ]
    }
   ],
   "source": [
    "import pandas as pd\n",
    "import numpy as np\n",
    "from sklearn.impute import SimpleImputer\n",
    "from sklearn.preprocessing import StandardScaler, OneHotEncoder\n",
    "import matplotlib.pyplot as plt\n",
    "import seaborn as sns\n",
    "\n",
    "print(\"Библиотеки успешно загружены\")import pandas as pd\n",
    "import numpy as np\n",
    "from sklearn.model_selection import train_test_split\n",
    "from sklearn.preprocessing import StandardScaler\n",
    "from sklearn.linear_model import LinearRegression, LogisticRegression\n",
    "from sklearn.metrics import mean_squared_error, r2_score, roc_curve, auc\n",
    "import matplotlib.pyplot as plt\n",
    "import seaborn as sns\n",
    "\n",
    "print(\"Библиотеки загружены\")"
   ]
  },
  {
   "cell_type": "code",
   "execution_count": 2,
   "id": "ebb6c4fa-f0d0-4f66-a0a9-d0d2803e6d02",
   "metadata": {
    "tags": []
   },
   "outputs": [
    {
     "name": "stdout",
     "output_type": "stream",
     "text": [
      "Данные загружены\n",
      "Train: (8693, 14), Test: (4277, 13)\n",
      "Колонки: ['PassengerId', 'HomePlanet', 'CryoSleep', 'Cabin', 'Destination', 'Age', 'VIP', 'RoomService', 'FoodCourt', 'ShoppingMall', 'Spa', 'VRDeck', 'Name', 'Transported']\n"
     ]
    }
   ],
   "source": [
    "train_df = pd.read_csv('../data/train.csv')\n",
    "test_df = pd.read_csv('../data/test.csv')\n",
    "\n",
    "print(\"Данные загружены\")\n",
    "print(f\"Train: {train_df.shape}, Test: {test_df.shape}\")\n",
    "print(f\"Колонки: {list(train_df.columns)}\")"
   ]
  },
  {
   "cell_type": "code",
   "execution_count": 3,
   "id": "28658047-3c55-454b-9c95-fa6031da7c94",
   "metadata": {
    "tags": []
   },
   "outputs": [
    {
     "name": "stdout",
     "output_type": "stream",
     "text": [
      "Данные подготовлены для ML\n"
     ]
    }
   ],
   "source": [
    "# Создаем копии\n",
    "train_processed = train_df.copy()\n",
    "test_processed = test_df.copy()\n",
    "\n",
    "# Заполняем пропуски (как в пункте 4 lab1)\n",
    "for col in train_processed.columns:\n",
    "    if train_processed[col].isnull().sum() > 0:\n",
    "        if train_processed[col].dtype == 'object':\n",
    "            mode_val = train_processed[col].mode()[0]\n",
    "            train_processed[col].fillna(mode_val, inplace=True)\n",
    "        else:\n",
    "            median_val = train_processed[col].median()\n",
    "            train_processed[col].fillna(median_val, inplace=True)\n",
    "\n",
    "# One-Hot Encoding (как в пункте 6 lab1)\n",
    "categorical_cols = ['HomePlanet', 'CryoSleep', 'Destination', 'VIP']\n",
    "categorical_cols = [col for col in categorical_cols if col in train_processed.columns]\n",
    "\n",
    "train_ohe = pd.get_dummies(train_processed, columns=categorical_cols, drop_first=True)\n",
    "\n",
    "print(\"Данные подготовлены для ML\")"
   ]
  },
  {
   "cell_type": "code",
   "execution_count": 4,
   "id": "8ef0e034-dcbe-4c38-976c-2a0ffa32ded9",
   "metadata": {
    "tags": []
   },
   "outputs": [
    {
     "name": "stdout",
     "output_type": "stream",
     "text": [
      "Числовые колонки для регрессии:\n",
      "['Age', 'RoomService', 'FoodCourt', 'ShoppingMall', 'Spa', 'VRDeck', 'HomePlanet_Europa', 'HomePlanet_Mars', 'CryoSleep_True', 'Destination_PSO J318.5-22', 'Destination_TRAPPIST-1e', 'VIP_True']\n",
      "Features: (8693, 11), Target: (8693,)\n"
     ]
    }
   ],
   "source": [
    "# Посмотрим на числовые колонки\n",
    "numeric_cols = train_ohe.select_dtypes(include=[np.number]).columns.tolist()\n",
    "print(\"Числовые колонки для регрессии:\")\n",
    "print(numeric_cols)\n",
    "\n",
    "# Выберем 'Age' как целевую переменную, остальные как features\n",
    "X = train_ohe.drop('Age', axis=1)\n",
    "y = train_ohe['Age']\n",
    "\n",
    "# Удаляем нечисловые колонки если остались\n",
    "X = X.select_dtypes(include=[np.number])\n",
    "\n",
    "print(f\"Features: {X.shape}, Target: {y.shape}\")"
   ]
  },
  {
   "cell_type": "code",
   "execution_count": 5,
   "id": "c4dc2691-0a8b-41a5-9067-b001483a1efb",
   "metadata": {
    "tags": []
   },
   "outputs": [
    {
     "name": "stdout",
     "output_type": "stream",
     "text": [
      "Результаты регрессии:\n",
      "MSE: 198.21\n",
      "R² Score: 0.06\n"
     ]
    }
   ],
   "source": [
    "# Разделение данных и обучение модели\n",
    "X_train, X_test, y_train, y_test = train_test_split(X, y, test_size=0.2, random_state=42)\n",
    "\n",
    "# Масштабирование features\n",
    "scaler = StandardScaler()\n",
    "X_train_scaled = scaler.fit_transform(X_train)\n",
    "X_test_scaled = scaler.transform(X_test)\n",
    "\n",
    "# Обучение линейной регрессии\n",
    "model_reg = LinearRegression()\n",
    "model_reg.fit(X_train_scaled, y_train)\n",
    "\n",
    "# Предсказания\n",
    "y_pred = model_reg.predict(X_test_scaled)\n",
    "\n",
    "# Оценка модели\n",
    "mse = mean_squared_error(y_test, y_pred)\n",
    "r2 = r2_score(y_test, y_pred)\n",
    "\n",
    "print(\"Результаты регрессии:\")\n",
    "print(f\"MSE: {mse:.2f}\")\n",
    "print(f\"R² Score: {r2:.2f}\")"
   ]
  },
  {
   "cell_type": "code",
   "execution_count": 6,
   "id": "86064b70-4fa7-4bc6-b065-f6e39af652f3",
   "metadata": {
    "tags": []
   },
   "outputs": [
    {
     "name": "stdout",
     "output_type": "stream",
     "text": [
      "Классификация: (8693, 11), Целевая переменная: (8693,)\n",
      "Распределение классов: 0    5282\n",
      "1    3411\n",
      "Name: Age_above_30, dtype: int64\n"
     ]
    }
   ],
   "source": [
    "# Создаем бинарную целевую переменную (например, Age > 30)\n",
    "train_ohe['Age_above_30'] = (train_ohe['Age'] > 30).astype(int)\n",
    "\n",
    "X_clf = train_ohe.drop(['Age', 'Age_above_30'], axis=1)\n",
    "y_clf = train_ohe['Age_above_30']\n",
    "\n",
    "X_clf = X_clf.select_dtypes(include=[np.number])\n",
    "\n",
    "print(f\"Классификация: {X_clf.shape}, Целевая переменная: {y_clf.shape}\")\n",
    "print(f\"Распределение классов: {y_clf.value_counts()}\")"
   ]
  },
  {
   "cell_type": "code",
   "execution_count": 7,
   "id": "77ae6b0d-8c97-46f0-b0c1-fefa92cb73e9",
   "metadata": {
    "tags": []
   },
   "outputs": [],
   "source": [
    "# Обучение модели классификации\n",
    "X_train_clf, X_test_clf, y_train_clf, y_test_clf = train_test_split(\n",
    "    X_clf, y_clf, test_size=0.2, random_state=42, stratify=y_clf\n",
    ")\n",
    "\n",
    "# Масштабирование\n",
    "scaler_clf = StandardScaler()\n",
    "X_train_clf_scaled = scaler_clf.fit_transform(X_train_clf)\n",
    "X_test_clf_scaled = scaler_clf.transform(X_test_clf)\n",
    "\n",
    "# Логистическая регрессия\n",
    "model_clf = LogisticRegression()\n",
    "model_clf.fit(X_train_clf_scaled, y_train_clf)\n",
    "\n",
    "# Предсказания вероятностей\n",
    "y_pred_proba = model_clf.predict_proba(X_test_clf_scaled)[:, 1]"
   ]
  },
  {
   "cell_type": "code",
   "execution_count": 8,
   "id": "08af5d98-405d-45a4-8a8b-928154093ca8",
   "metadata": {
    "tags": []
   },
   "outputs": [
    {
     "data": {
      "image/png": "[encoded data removed]",
      "text/plain": [
       "<Figure size 800x600 with 1 Axes>"
      ]
     },
     "metadata": {},
     "output_type": "display_data"
    },
    {
     "name": "stdout",
     "output_type": "stream",
     "text": [
      "AUC Score: 0.64\n"
     ]
    }
   ],
   "source": [
    "# ROC-кривая\n",
    "fpr, tpr, thresholds = roc_curve(y_test_clf, y_pred_proba)\n",
    "roc_auc = auc(fpr, tpr)\n",
    "\n",
    "# Построение графика\n",
    "plt.figure(figsize=(8, 6))\n",
    "plt.plot(fpr, tpr, color='darkorange', lw=2, label=f'ROC curve (AUC = {roc_auc:.2f})')\n",
    "plt.plot([0, 1], [0, 1], color='navy', lw=2, linestyle='--')\n",
    "plt.xlim([0.0, 1.0])\n",
    "plt.ylim([0.0, 1.05])\n",
    "plt.xlabel('False Positive Rate')\n",
    "plt.ylabel('True Positive Rate')\n",
    "plt.title('ROC Curve для классификации')\n",
    "plt.legend(loc=\"lower right\")\n",
    "plt.show()\n",
    "\n",
    "print(f\"AUC Score: {roc_auc:.2f}\")"
   ]
  },
  {
   "cell_type": "code",
   "execution_count": null,
   "id": "8f56d84d-92b0-4e24-a060-e42061a6fe9c",
   "metadata": {},
   "outputs": [],
   "source": []
  }
 ],
 "metadata": {
  "kernelspec": {
   "display_name": "Python 3 (ipykernel)",
   "language": "python",
   "name": "python3"
  },
  "language_info": {
   "codemirror_mode": {
    "name": "ipython",
    "version": 3
   },
   "file_extension": ".py",
   "mimetype": "text/x-python",
   "name": "python",
   "nbconvert_exporter": "python",
   "pygments_lexer": "ipython3",
   "version": "3.7.8"
  }
 },
 "nbformat": 4,
 "nbformat_minor": 5
}
